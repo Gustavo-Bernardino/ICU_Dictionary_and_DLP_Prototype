{
 "cells": [
  {
   "cell_type": "markdown",
   "metadata": {},
   "source": [
    "#### Importing Libraries"
   ]
  },
  {
   "cell_type": "code",
   "execution_count": 61,
   "metadata": {},
   "outputs": [],
   "source": [
    "# 1️⃣ Setup & Imports\n",
    "import re\n",
    "import random\n",
    "import pandas as pd\n",
    "import json"
   ]
  },
  {
   "cell_type": "markdown",
   "metadata": {},
   "source": [
    "##### Creating empty dictionary"
   ]
  },
  {
   "cell_type": "code",
   "execution_count": 20,
   "metadata": {},
   "outputs": [],
   "source": [
    "# Step-by-step creation of the ICU Data Dictionary\n",
    "\n",
    "# 1️⃣ Start with an empty dictionary\n",
    "icu_data_dict_granular = {}"
   ]
  },
  {
   "cell_type": "markdown",
   "metadata": {},
   "source": [
    "##### .2. Build Patterns"
   ]
  },
  {
   "cell_type": "markdown",
   "metadata": {},
   "source": [
    "##### 1.2. Stress-Test"
   ]
  },
  {
   "cell_type": "markdown",
   "metadata": {},
   "source": [
    "##### 1.3. Add Identifiers to Dict"
   ]
  },
  {
   "cell_type": "markdown",
   "metadata": {},
   "source": [
    "## 1. Patient Identifiers"
   ]
  },
  {
   "cell_type": "markdown",
   "metadata": {},
   "source": [
    "### 1.1. Names (Full Matches)"
   ]
  },
  {
   "cell_type": "markdown",
   "metadata": {},
   "source": [
    "##### 1.1.2. Build Pattern"
   ]
  },
  {
   "cell_type": "markdown",
   "metadata": {},
   "source": [
    "## 4. Clinical & Medical Data"
   ]
  },
  {
   "cell_type": "markdown",
   "metadata": {},
   "source": [
    "### 4.1. Diagnósticos"
   ]
  },
  {
   "cell_type": "markdown",
   "metadata": {},
   "source": [
    "### 4.2. História Clínica"
   ]
  },
  {
   "cell_type": "markdown",
   "metadata": {},
   "source": [
    "### 4.3. Exame Físico"
   ]
  },
  {
   "cell_type": "markdown",
   "metadata": {},
   "source": [
    "### 4.4. Impressão Evolutiva"
   ]
  },
  {
   "cell_type": "markdown",
   "metadata": {},
   "source": [
    "##### 1.1.2. Build Pattern"
   ]
  },
  {
   "cell_type": "code",
   "execution_count": 21,
   "metadata": {},
   "outputs": [],
   "source": [
    "\n",
    "# 2️⃣ Add the main category \"Patient_Identifiers\"\n",
    "icu_data_dict_granular[\"Patient_Identifiers\"] = {}\n",
    "\n",
    "# 3️⃣ Add the \"Fields\" subcategory\n",
    "icu_data_dict_granular[\"Patient_Identifiers\"][\"Fields\"] = {}\n",
    "\n",
    "# 4️⃣ Add the \"Complete_Name\" field under \"Fields\"\n",
    "icu_data_dict_granular[\"Patient_Identifiers\"][\"Fields\"][\"Complete_Name\"] = {}\n"
   ]
  },
  {
   "cell_type": "code",
   "execution_count": null,
   "metadata": {},
   "outputs": [],
   "source": [
    "# Name could include the word \"paciente\", which has no gender inflection, it could just say \"nome\" or complete name: \"nome completo\"\n",
    "Field_Identifier = [r\"\\b(?:[Nn]ome)\\b\",\n",
    "                    r\"[nN]ome\\s{0,3}[cC]omplete\"\n",
    "                    r\"\\b[Nn]ome\\s{0,3}(?:d[oa])?\\s{0,3}[Pp]aciente\\b\",\n",
    "                    r\"[Pp]aciente\"]\n",
    "\n",
    "# 1. This is a Regex to check for names that are minimally complete: at least one first name and one surname, providing FULL ABSOLUTE MATCHES with the widest range of patterns possible.\n",
    "# 2. I did this pattern mostly to train and outstretch Regex possibilities, we probably should use a simpler approach to detecting names.\n",
    "# 3. Names in Brazil can be really creative (differently from Portugal, that has a law for naming, with a determined list of names that could be given at birth), so we must account for many variations in Brazil.\n",
    "# 4. Added a specificity to Portuguese names which is the presence of possessive particles (\"de\",\"do\", \"da\"). Also included the same characteristics from other languages such as  arabian, dutch, italian, german and spanish, since we had considerable immigration from these groups to Brazil.\"\n",
    "# 5. Added specific accentuations that correspond to portuguese such as circunflex \"^\" and tilda \"~\"\n",
    "# 6. Added a possible hyphen that in some cases could separate composite names.\n",
    "# 7. For this field it is really important not to ignore uppercase.\n",
    "\n",
    "Content_Identifier =  r\"\\b[A-ZÀ-Ÿ][a-zà-ÿ]+\\s{0,3}-?(?:da|de|do|dos|das|di|del|della|degli|dei|von|van|\\bvon der\\b|\\bvan der\\b|\\bvan den\\b|du|de la|al|bin|ibn|el)?\\s{0,3}[A-ZÀ-Ÿ][a-zà-ÿ]+\\s{0,3}-?(?:(?:da|de|do|dos|das|di|del|della|degli|dei|von|van|\\bvon der\\b|\\bvan der\\b|\\bvan den\\b|du|\\bde la\\b|al|bin|ibn|el)?\\s{0,3}-?[A-ZÀ-Ÿ][a-zà-ÿ]+\\s{0,3})*\\b\",\n"
   ]
  },
  {
   "cell_type": "markdown",
   "metadata": {},
   "source": [
    "#### 1.1.2. Stress-Test"
   ]
  },
  {
   "cell_type": "code",
   "execution_count": 23,
   "metadata": {},
   "outputs": [],
   "source": [
    "# Define components of Portuguese full names\n",
    "first_names = [\"João\", \"Maria\", \"Carlos\", \"Fernanda\", \"Antônio\", \"Ênio\", \"Beatriz\", \"Luís\", \"Ana\", \"Paulo\", \"Júlia\", \"Eduardo\"]\n",
    "middle_names = [\"José\", \"Clara\", \"Júnior\", \"Paulo\", \"Pedro\", \"Silva\", \"Jara\", \"Miguel\", \"Henrique\", \"Neves\", \"Vales\"]\n",
    "last_names = [\"Santos\", \"Costa\", \"Souza\", \"Nascimento\", \"Pereira\", \"Oliveira\", \"Vales\", \"Ribeiro\", \"Mendes\", \"Rodrigues\"]\n",
    "particles = [\"da\", \"de\", \"do\", \"dos\", \"das\", \"di\", \"von der\",\"al\", \"ibn\", \"von\"]\n",
    "\n",
    "# Generate random full names with variation\n",
    "def generate_portuguese_names(n):\n",
    "    names = []\n",
    "    for _ in range(n):\n",
    "        first = random.choice(first_names)\n",
    "        middle = random.choice(middle_names) if random.random() > 0.5 else \"\"\n",
    "        particle = random.choice(particles) if random.random() > 0.3 else \"\"\n",
    "        last = random.choice(last_names)\n",
    "        hyphen = \"-\" if random.random() > 0.8 else \" \"\n",
    "        \n",
    "        # Construct name with variations\n",
    "        full_name = first\n",
    "        if middle:\n",
    "            full_name += hyphen + middle if random.random() > 0.7 else \" \" + middle\n",
    "        if particle:\n",
    "            full_name += \" \" + particle\n",
    "        full_name += \" \" + last\n",
    "\n",
    "        # Add diacritic variations randomly\n",
    "        full_name = full_name.replace(\"a\", \"à\") if random.random() > 0.9 else full_name\n",
    "        full_name = full_name.replace(\"o\", \"ô\") if random.random() > 0.9 else full_name\n",
    "        full_name = full_name.replace(\"e\", \"ê\") if random.random() > 0.9 else full_name\n",
    "\n",
    "        names.append(full_name)\n",
    "    return names\n",
    "\n",
    "# Generate test dataset\n",
    "test_names = generate_portuguese_names(100)\n",
    "\n",
    "# Define the regex pattern for full names\n",
    "name_regex_test = re.compile(\n",
    "    r\"\\b[A-ZÀ-Ÿ][a-zà-ÿ]+\\s{0,3}-?(?:da|de|do|dos|das|di|del|della|degli|dei|von|van|\\bvon der\\b|\\bvan der\\b|\\bvan den\\b|du|de la|al|bin|ibn|el)?\\s{0,3}[A-ZÀ-Ÿ][a-zà-ÿ]+\\s{0,3}-?(?:(?:da|de|do|dos|das|di|del|della|degli|dei|von|van|\\bvon der\\b|\\bvan der\\b|\\bvan den\\b|du|\\bde la\\b|al|bin|ibn|el)?\\s{0,3}-?[A-ZÀ-Ÿ][a-zà-ÿ]+\\s{0,3})*\\b\",\n",
    "\n",
    ")\n",
    "\n",
    "# Test regex against generated names\n",
    "matches_test = [name for name in test_names if name_regex_test.fullmatch(name)]\n",
    "\n",
    "# Display results\n",
    "df_results_test = pd.DataFrame({\"Generated Name\": test_names, \"Matched\": [\"✅\" if name in matches_test else \"❌\" for name in test_names]})\n"
   ]
  },
  {
   "cell_type": "code",
   "execution_count": 24,
   "metadata": {},
   "outputs": [
    {
     "data": {
      "text/html": [
       "<div>\n",
       "<style scoped>\n",
       "    .dataframe tbody tr th:only-of-type {\n",
       "        vertical-align: middle;\n",
       "    }\n",
       "\n",
       "    .dataframe tbody tr th {\n",
       "        vertical-align: top;\n",
       "    }\n",
       "\n",
       "    .dataframe thead th {\n",
       "        text-align: right;\n",
       "    }\n",
       "</style>\n",
       "<table border=\"1\" class=\"dataframe\">\n",
       "  <thead>\n",
       "    <tr style=\"text-align: right;\">\n",
       "      <th></th>\n",
       "      <th>Generated Name</th>\n",
       "      <th>Matched</th>\n",
       "    </tr>\n",
       "  </thead>\n",
       "  <tbody>\n",
       "    <tr>\n",
       "      <th>0</th>\n",
       "      <td>Ênio Paulo Souza</td>\n",
       "      <td>✅</td>\n",
       "    </tr>\n",
       "    <tr>\n",
       "      <th>1</th>\n",
       "      <td>Luís al Nascimento</td>\n",
       "      <td>✅</td>\n",
       "    </tr>\n",
       "    <tr>\n",
       "      <th>2</th>\n",
       "      <td>Ênio Vales von Rodrigues</td>\n",
       "      <td>✅</td>\n",
       "    </tr>\n",
       "    <tr>\n",
       "      <th>3</th>\n",
       "      <td>Maria Ribeiro</td>\n",
       "      <td>✅</td>\n",
       "    </tr>\n",
       "    <tr>\n",
       "      <th>4</th>\n",
       "      <td>Fêrnanda Jara das Rodriguês</td>\n",
       "      <td>✅</td>\n",
       "    </tr>\n",
       "    <tr>\n",
       "      <th>...</th>\n",
       "      <td>...</td>\n",
       "      <td>...</td>\n",
       "    </tr>\n",
       "    <tr>\n",
       "      <th>95</th>\n",
       "      <td>Carlos Neves von Rodrigues</td>\n",
       "      <td>✅</td>\n",
       "    </tr>\n",
       "    <tr>\n",
       "      <th>96</th>\n",
       "      <td>Anà Pedro von der Ribeiro</td>\n",
       "      <td>✅</td>\n",
       "    </tr>\n",
       "    <tr>\n",
       "      <th>97</th>\n",
       "      <td>Carlôs Silva de Mendes</td>\n",
       "      <td>✅</td>\n",
       "    </tr>\n",
       "    <tr>\n",
       "      <th>98</th>\n",
       "      <td>Antônio al Rodrigues</td>\n",
       "      <td>✅</td>\n",
       "    </tr>\n",
       "    <tr>\n",
       "      <th>99</th>\n",
       "      <td>Júlia di Pereira</td>\n",
       "      <td>✅</td>\n",
       "    </tr>\n",
       "  </tbody>\n",
       "</table>\n",
       "<p>100 rows × 2 columns</p>\n",
       "</div>"
      ],
      "text/plain": [
       "                 Generated Name Matched\n",
       "0              Ênio Paulo Souza       ✅\n",
       "1            Luís al Nascimento       ✅\n",
       "2      Ênio Vales von Rodrigues       ✅\n",
       "3                 Maria Ribeiro       ✅\n",
       "4   Fêrnanda Jara das Rodriguês       ✅\n",
       "..                          ...     ...\n",
       "95   Carlos Neves von Rodrigues       ✅\n",
       "96    Anà Pedro von der Ribeiro       ✅\n",
       "97       Carlôs Silva de Mendes       ✅\n",
       "98         Antônio al Rodrigues       ✅\n",
       "99             Júlia di Pereira       ✅\n",
       "\n",
       "[100 rows x 2 columns]"
      ]
     },
     "execution_count": 24,
     "metadata": {},
     "output_type": "execute_result"
    }
   ],
   "source": [
    "df_results_test #The names that failed are not \"real names\", so the identifier seems to passed the stress-test."
   ]
  },
  {
   "cell_type": "markdown",
   "metadata": {},
   "source": [
    "#### 1.1.3. Add identifiers to dict"
   ]
  },
  {
   "cell_type": "code",
   "execution_count": null,
   "metadata": {},
   "outputs": [],
   "source": [
    "\n",
    "# 5️⃣ Add the subkeys: \"Field_Identifier\", \"Content_Identifier\", and \"DLP_Strategy\"\n",
    "icu_data_dict_granular[\"Patient_Identifiers\"][\"Fields\"][\"Complete_Name\"][\"Field_Identifier\"] = [\n",
    "    r\"\\b(?:[Nn]ome)\\b\",\n",
    "    r\"[nN]ome\\s{0,3}[cC]omplete\"\n",
    "    r\"\\b[Nn]ome\\s{0,3}(?:d[oa])?\\s{0,3}[Pp]aciente\\b\",\n",
    "    r\"[Pp]aciente\"]\n",
    "\n",
    "icu_data_dict_granular[\"Patient_Identifiers\"][\"Fields\"][\"Complete_Name\"][\"Content_Identifier\"] = r\"\\b[A-ZÀ-Ÿ][a-zà-ÿ]+\\s{0,3}-?(?:da|de|do|dos|das|di|del|della|degli|dei|von|van|\\bvon der\\b|\\bvan der\\b|\\bvan den\\b|du|de la|al|bin|ibn|el)?\\s{0,3}[A-ZÀ-Ÿ][a-zà-ÿ]+\\s{0,3}-?(?:(?:da|de|do|dos|das|di|del|della|degli|dei|von|van|\\bvon der\\b|\\bvan der\\b|\\bvan den\\b|du|\\bde la\\b|al|bin|ibn|el)?\\s{0,3}-?[A-ZÀ-Ÿ][a-zà-ÿ]+\\s{0,3})*\\b\"\n",
    "\n",
    "icu_data_dict_granular[\"Patient_Identifiers\"][\"Fields\"][\"Complete_Name\"][\"DLP_Strategy\"] = \"Detects full names using regex-based entity recognition.\""
   ]
  },
  {
   "cell_type": "markdown",
   "metadata": {},
   "source": [
    "### Name and Surname (partial Matches)"
   ]
  },
  {
   "cell_type": "markdown",
   "metadata": {},
   "source": [
    "##### 1.2. Build Patterns"
   ]
  },
  {
   "cell_type": "code",
   "execution_count": null,
   "metadata": {},
   "outputs": [],
   "source": [
    "# Field can be either \"Nome\" (First Name) or \"Sobrenome\" (Last Name), it is also possible. In Brazil we do not say middle-names, we just call all of them surnames \"sobrenomes\", so we pluralize.\n",
    "Field_Identifier = [r\"\\b(?:[Nn]ome)\\b\",r\"\\b[Pp]rimeiro\\s{0,3}[nN]ome\", r\"\\b[Ss]obrenomes?\\b\"]\n",
    "\n",
    "# Regex for single names or single surnames, allowing for hyphenated names\n",
    "Content_Identifier = r\"\\b(?:da|de|do|dos|das|di|del|della|degli|dei|von|van|\\bvon der\\b|\\bvan der\\b|\\bvan den\\b|du|de la|al|bin|ibn|el)?\\s{0,3}[A-ZÀ-Ÿ][a-zà-ÿ]+\\s{0,3}-?(?:[A-ZÀ-Ÿ][a-zà-ÿ]+)?\\b\"\n"
   ]
  },
  {
   "cell_type": "markdown",
   "metadata": {},
   "source": [
    "##### 1.2.1. Stress-Test"
   ]
  },
  {
   "cell_type": "code",
   "execution_count": 48,
   "metadata": {},
   "outputs": [
    {
     "data": {
      "text/html": [
       "<div>\n",
       "<style scoped>\n",
       "    .dataframe tbody tr th:only-of-type {\n",
       "        vertical-align: middle;\n",
       "    }\n",
       "\n",
       "    .dataframe tbody tr th {\n",
       "        vertical-align: top;\n",
       "    }\n",
       "\n",
       "    .dataframe thead th {\n",
       "        text-align: right;\n",
       "    }\n",
       "</style>\n",
       "<table border=\"1\" class=\"dataframe\">\n",
       "  <thead>\n",
       "    <tr style=\"text-align: right;\">\n",
       "      <th></th>\n",
       "      <th>Generated Name</th>\n",
       "      <th>Matched</th>\n",
       "    </tr>\n",
       "  </thead>\n",
       "  <tbody>\n",
       "    <tr>\n",
       "      <th>0</th>\n",
       "      <td>João</td>\n",
       "      <td>✅</td>\n",
       "    </tr>\n",
       "    <tr>\n",
       "      <th>1</th>\n",
       "      <td>Fernanda</td>\n",
       "      <td>✅</td>\n",
       "    </tr>\n",
       "    <tr>\n",
       "      <th>2</th>\n",
       "      <td>Ana-Clara</td>\n",
       "      <td>✅</td>\n",
       "    </tr>\n",
       "    <tr>\n",
       "      <th>3</th>\n",
       "      <td>Silva</td>\n",
       "      <td>✅</td>\n",
       "    </tr>\n",
       "    <tr>\n",
       "      <th>4</th>\n",
       "      <td>Mendes</td>\n",
       "      <td>✅</td>\n",
       "    </tr>\n",
       "    <tr>\n",
       "      <th>5</th>\n",
       "      <td>dos Santos</td>\n",
       "      <td>✅</td>\n",
       "    </tr>\n",
       "    <tr>\n",
       "      <th>6</th>\n",
       "      <td>Medeiros</td>\n",
       "      <td>✅</td>\n",
       "    </tr>\n",
       "    <tr>\n",
       "      <th>7</th>\n",
       "      <td>von Dorf</td>\n",
       "      <td>✅</td>\n",
       "    </tr>\n",
       "    <tr>\n",
       "      <th>8</th>\n",
       "      <td>van Dorf</td>\n",
       "      <td>✅</td>\n",
       "    </tr>\n",
       "    <tr>\n",
       "      <th>9</th>\n",
       "      <td>João das Marias</td>\n",
       "      <td>❌</td>\n",
       "    </tr>\n",
       "  </tbody>\n",
       "</table>\n",
       "</div>"
      ],
      "text/plain": [
       "    Generated Name Matched\n",
       "0             João       ✅\n",
       "1         Fernanda       ✅\n",
       "2        Ana-Clara       ✅\n",
       "3            Silva       ✅\n",
       "4           Mendes       ✅\n",
       "5       dos Santos       ✅\n",
       "6         Medeiros       ✅\n",
       "7         von Dorf       ✅\n",
       "8         van Dorf       ✅\n",
       "9  João das Marias       ❌"
      ]
     },
     "execution_count": 48,
     "metadata": {},
     "output_type": "execute_result"
    }
   ],
   "source": [
    "test_names = [\"João\", \"Fernanda\", \"Ana-Clara\", \"Silva\", \"Mendes\", \"dos Santos\", \"Medeiros\", \"von Dorf\",\"van Dorf\", \"João das Marias\"]\n",
    "name_regex_test = re.compile(Content_Identifier)\n",
    "\n",
    "# Test regex against generated names\n",
    "matches_test = [name for name in test_names if name_regex_test.fullmatch(name)]\n",
    "\n",
    "# Display results\n",
    "df_results_test = pd.DataFrame({\"Generated Name\": test_names, \"Matched\": [\"✅\" if name in matches_test else \"❌\" for name in test_names]})\n",
    "df_results_test"
   ]
  },
  {
   "cell_type": "markdown",
   "metadata": {},
   "source": [
    "##### 1.3. Add Identifiers to Dict"
   ]
  },
  {
   "cell_type": "code",
   "execution_count": 59,
   "metadata": {},
   "outputs": [],
   "source": [
    "icu_data_dict_granular[\"Patient_Identifiers\"][\"Fields\"][\"Name_or_Surname\"] = {\n",
    "    \"Field_Identifier\": Field_Identifier,\n",
    "    \"Content_Identifier\": Content_Identifier,\n",
    "    \"DLP_Strategy\": \"Detects individual names or surnames when stored in separate fields.\"\n",
    "}\n"
   ]
  },
  {
   "cell_type": "markdown",
   "metadata": {},
   "source": [
    "##### 1.3. Build Patterns"
   ]
  },
  {
   "cell_type": "code",
   "execution_count": 54,
   "metadata": {},
   "outputs": [],
   "source": [
    "# Field variations for \"Número de Atendimento\"\n",
    "Field_Identifier = [\n",
    "    r\"\\b(?:n[úu]mero|N\\.?|#|Nº|I[Dd]|C[óo]digo|identifica(?:ção|cao))\\s{0,3}(?:de)?\\s{0,3}atendimento\\b\",\n",
    "    r\"\\batendimento\\s{0,3}(?:n[úu]mero|N\\.?|#|Nº|I[Dd]|C[óo]digo|identifica(?:ção|cao))\\b\"\n",
    "]\n",
    "\n",
    "# Patient ID is usually a 5 to 10-digit number\n",
    "Content_Identifier = r\"\\b\\d{5,10}\\b\"\n"
   ]
  },
  {
   "cell_type": "markdown",
   "metadata": {},
   "source": [
    "##### 1.2. Stress-Test"
   ]
  },
  {
   "cell_type": "code",
   "execution_count": 56,
   "metadata": {},
   "outputs": [
    {
     "data": {
      "text/html": [
       "<div>\n",
       "<style scoped>\n",
       "    .dataframe tbody tr th:only-of-type {\n",
       "        vertical-align: middle;\n",
       "    }\n",
       "\n",
       "    .dataframe tbody tr th {\n",
       "        vertical-align: top;\n",
       "    }\n",
       "\n",
       "    .dataframe thead th {\n",
       "        text-align: right;\n",
       "    }\n",
       "</style>\n",
       "<table border=\"1\" class=\"dataframe\">\n",
       "  <thead>\n",
       "    <tr style=\"text-align: right;\">\n",
       "      <th></th>\n",
       "      <th>Generated ID</th>\n",
       "      <th>Matched</th>\n",
       "    </tr>\n",
       "  </thead>\n",
       "  <tbody>\n",
       "    <tr>\n",
       "      <th>0</th>\n",
       "      <td>12345</td>\n",
       "      <td>✅</td>\n",
       "    </tr>\n",
       "    <tr>\n",
       "      <th>1</th>\n",
       "      <td>9876543210</td>\n",
       "      <td>✅</td>\n",
       "    </tr>\n",
       "    <tr>\n",
       "      <th>2</th>\n",
       "      <td>00001</td>\n",
       "      <td>✅</td>\n",
       "    </tr>\n",
       "    <tr>\n",
       "      <th>3</th>\n",
       "      <td>ABCDE</td>\n",
       "      <td>❌</td>\n",
       "    </tr>\n",
       "  </tbody>\n",
       "</table>\n",
       "</div>"
      ],
      "text/plain": [
       "  Generated ID Matched\n",
       "0        12345       ✅\n",
       "1   9876543210       ✅\n",
       "2        00001       ✅\n",
       "3        ABCDE       ❌"
      ]
     },
     "execution_count": 56,
     "metadata": {},
     "output_type": "execute_result"
    }
   ],
   "source": [
    "test_patient_ids = [\"12345\", \"9876543210\", \"00001\", \"ABCDE\"]\n",
    "id_regex_test = re.compile(Content_Identifier)\n",
    "\n",
    "# Test regex against generated IDs\n",
    "matches_test = [pid for pid in test_patient_ids if id_regex_test.fullmatch(pid)]\n",
    "\n",
    "# Display results\n",
    "df_results_test = pd.DataFrame({\"Generated ID\": test_patient_ids, \"Matched\": [\"✅\" if pid in matches_test else \"❌\" for pid in test_patient_ids]})\n",
    "df_results_test"
   ]
  },
  {
   "cell_type": "markdown",
   "metadata": {},
   "source": [
    "##### 1.3. Add Identifiers to Dict"
   ]
  },
  {
   "cell_type": "code",
   "execution_count": null,
   "metadata": {},
   "outputs": [],
   "source": [
    "icu_data_dict_granular[\"Patient_Identifiers\"][\"Fields\"][\"Name_or_Surname\"] = {\n",
    "    \"Field_Identifier\": Field_Identifier,\n",
    "    \"Content_Identifier\": Content_Identifier,\n",
    "    \"DLP_Strategy\": \"Detects individual names or surnames when stored in separate fields.\"\n",
    "}\n"
   ]
  },
  {
   "cell_type": "markdown",
   "metadata": {},
   "source": [
    "##### .2. Build Patterns"
   ]
  },
  {
   "cell_type": "code",
   "execution_count": null,
   "metadata": {},
   "outputs": [],
   "source": [
    "# Field variations for \"Nº Prontuário\"\n",
    "Field_Identifier = [r\"\\b(?:Nº Prontuário|Número do Prontuário)\\b\"]\n",
    "\n",
    "# Prontuário numbers are usually between 5 and 10 digits\n",
    "Content_Identifier = r\"\\b\\d{5,10}\\b\"\n"
   ]
  },
  {
   "cell_type": "markdown",
   "metadata": {},
   "source": [
    "##### 1.2. Stress-Test"
   ]
  },
  {
   "cell_type": "code",
   "execution_count": null,
   "metadata": {},
   "outputs": [],
   "source": [
    "test_record_numbers = [\"54321\", \"1234567890\", \"98765\", \"A123B\"]\n",
    "record_regex_test = re.compile(Content_Identifier)\n",
    "\n",
    "# Test regex against generated record numbers\n",
    "matches_test = [rec for rec in test_record_numbers if record_regex_test.fullmatch(rec)]\n",
    "\n",
    "# Display results\n",
    "df_results_test = pd.DataFrame({\"Generated Record Number\": test_record_numbers, \"Matched\": [\"✅\" if rec in matches_test else \"❌\" for rec in test_record_numbers]})\n",
    "tools.display_dataframe_to_user(name=\"Nº Prontuário Regex Test Results\", dataframe=df_results_test)\n"
   ]
  },
  {
   "cell_type": "markdown",
   "metadata": {},
   "source": [
    "##### 1.3. Add Identifiers to Dict"
   ]
  },
  {
   "cell_type": "code",
   "execution_count": null,
   "metadata": {},
   "outputs": [],
   "source": [
    "                \"Field_Regex\": [r\"\\b(?:n[úu]mero|N\\.?|#|Nº|I[Dd]|C[óo]digo|identifica(?:ção|cao))\\s{0,3}(?:de)?\\s{0,3}atendimento\\b\",\n",
    "                                r\"\\batendimento\\s{0,3}(?:n[úu]mero|N\\.?|#|Nº|I[Dd]|C[óo]digo|identifica(?:ção|cao))\\b\"], \n",
    "                \"Content_Regex\": r\"\\b\\d{5,10}\\b\",\n",
    "                \"DLP_Strategy\": \"Detects numerical patient identifiers.\""
   ]
  },
  {
   "cell_type": "code",
   "execution_count": null,
   "metadata": {},
   "outputs": [],
   "source": [
    "\n",
    "# 3️⃣ Hospitalization Data\n",
    "icu_data_dict_granular[\"Hospitalization_Data\"] = {\"Fields\": {}}\n",
    "\n",
    "## **Build Pattern**\n",
    "icu_data_dict_granular[\"Hospitalization_Data\"][\"Fields\"][\"DIH\"] = {\n",
    "    \"Field_Regex\": r\"\\b(?:DIH|Data da Internação Hospitalar)\\b\",\n",
    "    \"Content_Regex\": r\"\\b\\d{2}/\\d{2}/\\d{4}\\b\",\n",
    "    \"DLP_Strategy\": \"Detects hospital admission dates.\"\n",
    "}\n",
    "\n",
    "## **Stress Test**\n",
    "hospitalization_dates = [\"12/05/2023\", \"03/10/2019\", \"29/07/2022\"]\n",
    "dih_regex = re.compile(icu_data_dict_granular[\"Hospitalization_Data\"][\"Fields\"][\"DIH\"][\"Content_Regex\"])\n",
    "matches = [date for date in hospitalization_dates if dih_regex.fullmatch(date)]\n",
    "df_results = pd.DataFrame({\"Generated Date\": hospitalization_dates, \"Matched\": [\"✅\" if date in matches else \"❌\" for date in hospitalization_dates]})\n",
    "tools.display_dataframe_to_user(name=\"Hospitalization Date Regex Test\", dataframe=df_results)\n",
    "\n",
    "# 4️⃣ Insurance & Financial Data\n",
    "icu_data_dict_granular[\"Insurance_Financial_Data\"] = {\"Fields\": {}}\n",
    "\n",
    "## **Build Pattern**\n",
    "icu_data_dict_granular[\"Insurance_Financial_Data\"][\"Fields\"][\"Convênio\"] = {\n",
    "    \"Field_Regex\": r\"\\b(?:Convênio|Seguro de Saúde)\\b\",\n",
    "    \"Content_Regex\": r\"\\b\\d{10,16}\\b\",\n",
    "    \"DLP_Strategy\": \"Detects insurance numbers to prevent fraud.\"\n",
    "}\n",
    "\n",
    "## **Stress Test**\n",
    "insurance_numbers = [\"1234567890\", \"9876543210123456\", \"012345678912345\"]\n",
    "insurance_regex = re.compile(icu_data_dict_granular[\"Insurance_Financial_Data\"][\"Fields\"][\"Convênio\"][\"Content_Regex\"])\n",
    "matches = [num for num in insurance_numbers if insurance_regex.fullmatch(num)]\n",
    "df_results = pd.DataFrame({\"Generated Insurance Numbers\": insurance_numbers, \"Matched\": [\"✅\" if num in matches else \"❌\" for num in insurance_numbers]})\n",
    "tools.display_dataframe_to_user(name=\"Insurance Number Regex Test\", dataframe=df_results)\n",
    "\n",
    "# 5️⃣ Clinical & Medical Data\n",
    "icu_data_dict_granular[\"Clinical_Medical_Data\"] = {\"Fields\": {}}\n",
    "\n",
    "## **Build Pattern**\n",
    "icu_data_dict_granular[\"Clinical_Medical_Data\"][\"Fields\"][\"Diagnósticos\"] = {\n",
    "    \"Field_Regex\": r\"\\b(?:Diagnóstico|CID-10|Doença)\\b\",\n",
    "    \"Content_Regex\": r\"(?:Sepsis|Pneumonia|Hipertensão|Diabetes)\",\n",
    "    \"DLP_Strategy\": \"Uses NLP-based classification to recognize medical conditions.\"\n",
    "}\n",
    "\n",
    "## **Stress Test**\n",
    "medical_conditions = [\"Sepsis\", \"Diabetes\", \"Hipertensão\", \"Pneumonia\"]\n",
    "condition_regex = re.compile(icu_data_dict_granular[\"Clinical_Medical_Data\"][\"Fields\"][\"Diagnósticos\"][\"Content_Regex\"])\n",
    "matches = [cond for cond in medical_conditions if condition_regex.fullmatch(cond)]\n",
    "df_results = pd.DataFrame({\"Generated Medical Conditions\": medical_conditions, \"Matched\": [\"✅\" if cond in matches else \"❌\" for cond in medical_conditions]})\n",
    "tools.display_dataframe_to_user(name=\"Medical Condition Regex Test\", dataframe=df_results)\n",
    "\n",
    "# 6️⃣ Medication & Treatment\n",
    "icu_data_dict_granular[\"Medication_Treatment\"] = {\"Fields\": {}}\n",
    "\n",
    "## **Build Pattern**\n",
    "icu_data_dict_granular[\"Medication_Treatment\"][\"Fields\"][\"Prescrição\"] = {\n",
    "    \"Field_Regex\": r\"\\b(?:Prescrição|Receita Médica)\\b\",\n",
    "    \"Content_Regex\": r\"\\b(?:Paracetamol|Ibuprofeno|Morfina|Fentanil)\\b\",\n",
    "    \"DLP_Strategy\": \"Flags prescription of controlled substances.\"\n",
    "}\n",
    "\n",
    "# 7️⃣ Final Steps: Export Dictionary\n",
    "with open(\"icu_dlp_dictionary.json\", \"w\", encoding=\"utf-8\") as f:\n",
    "    json.dump(icu_data_dict_granular, f, indent=4, ensure_ascii=False)\n",
    "\n",
    "print(\"ICU DLP Dictionary saved as JSON ✅\")\n"
   ]
  }
 ],
 "metadata": {
  "kernelspec": {
   "display_name": ".venv",
   "language": "python",
   "name": "python3"
  },
  "language_info": {
   "codemirror_mode": {
    "name": "ipython",
    "version": 3
   },
   "file_extension": ".py",
   "mimetype": "text/x-python",
   "name": "python",
   "nbconvert_exporter": "python",
   "pygments_lexer": "ipython3",
   "version": "3.11.9"
  }
 },
 "nbformat": 4,
 "nbformat_minor": 2
}
