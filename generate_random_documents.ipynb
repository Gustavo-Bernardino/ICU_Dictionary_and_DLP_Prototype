{
 "cells": [
  {
   "cell_type": "code",
   "execution_count": 1,
   "metadata": {},
   "outputs": [
    {
     "data": {
      "text/plain": [
       "['test_documents\\\\test_file_1.pdf',\n",
       " 'test_documents\\\\test_file_1.docx',\n",
       " 'test_documents\\\\test_file_1.csv',\n",
       " 'test_documents\\\\test_file_2.pdf',\n",
       " 'test_documents\\\\test_file_2.docx',\n",
       " 'test_documents\\\\test_file_2.csv',\n",
       " 'test_documents\\\\test_file_3.pdf',\n",
       " 'test_documents\\\\test_file_3.docx',\n",
       " 'test_documents\\\\test_file_3.csv',\n",
       " 'test_documents\\\\test_file_4.pdf',\n",
       " 'test_documents\\\\test_file_4.docx',\n",
       " 'test_documents\\\\test_file_4.csv',\n",
       " 'test_documents\\\\test_file_5.pdf',\n",
       " 'test_documents\\\\test_file_5.docx',\n",
       " 'test_documents\\\\test_file_5.csv']"
      ]
     },
     "execution_count": 1,
     "metadata": {},
     "output_type": "execute_result"
    }
   ],
   "source": [
    "import pandas as pd\n",
    "import fitz  # PyMuPDF for PDFs\n",
    "from docx import Document\n",
    "import random\n",
    "import os\n",
    "\n",
    "\n",
    "# Directory to store generated test files\n",
    "output_dir = \"test_documents\"\n",
    "os.makedirs(output_dir, exist_ok=True)\n",
    "\n",
    "# Sample sensitive and non-sensitive data\n",
    "sensitive_data = [\n",
    "    \"Paciente diagnosticado com pneumonia severa e sepse.\",\n",
    "    \"Nome do paciente: João Silva\",\n",
    "    \"Número de atendimento: 123456\",\n",
    "    \"Diagnóstico: Insuficiência cardíaca crônica\",\n",
    "    \"Prescrição: Morfina 10mg, Fentanil 5mg\",\n",
    "    \"História Clínica: Paciente com histórico de hipertensão e diabetes\",\n",
    "    \"Data de nascimento: 12/05/1985\",\n",
    "]\n",
    "\n",
    "non_sensitive_data = [\n",
    "    \"O hospital possui 200 leitos disponíveis.\",\n",
    "    \"Relatório de equipamentos: Ventiladores mecânicos em funcionamento.\",\n",
    "    \"Estoque atualizado de medicamentos.\",\n",
    "    \"Aviso: Reunião da equipe médica agendada para segunda-feira.\",\n",
    "    \"Novo estudo publicado sobre eficiência de tratamentos para COVID-19.\",\n",
    "]\n",
    "\n",
    "# Function to generate a random PDF\n",
    "def create_pdf(file_name, content):\n",
    "    pdf_path = os.path.join(output_dir, file_name)\n",
    "    doc = fitz.open()\n",
    "    page = doc.new_page()\n",
    "    page.insert_text((50, 50), content)\n",
    "    doc.save(pdf_path)\n",
    "    return pdf_path\n",
    "\n",
    "# Function to generate a random DOCX file\n",
    "def create_docx(file_name, content):\n",
    "    doc_path = os.path.join(output_dir, file_name)\n",
    "    doc = Document()\n",
    "    doc.add_paragraph(content)\n",
    "    doc.save(doc_path)\n",
    "    return doc_path\n",
    "\n",
    "# Function to generate a random CSV file\n",
    "def create_csv(file_name, data):\n",
    "    csv_path = os.path.join(output_dir, file_name)\n",
    "    df = pd.DataFrame({\"Text\": data})\n",
    "    df.to_csv(csv_path, index=False, encoding=\"utf-8\")\n",
    "    return csv_path\n",
    "\n",
    "# Generate random test files\n",
    "test_files = []\n",
    "for i in range(5):  # Generate 5 files of each type\n",
    "    content = random.choice(sensitive_data + non_sensitive_data)\n",
    "    test_files.append(create_pdf(f\"test_file_{i+1}.pdf\", content))\n",
    "    test_files.append(create_docx(f\"test_file_{i+1}.docx\", content))\n",
    "    test_files.append(create_csv(f\"test_file_{i+1}.csv\", [content]))\n",
    "\n",
    "# Return the list of generated files\n",
    "test_files\n"
   ]
  },
  {
   "cell_type": "code",
   "execution_count": null,
   "metadata": {},
   "outputs": [],
   "source": []
  }
 ],
 "metadata": {
  "kernelspec": {
   "display_name": ".venv",
   "language": "python",
   "name": "python3"
  },
  "language_info": {
   "codemirror_mode": {
    "name": "ipython",
    "version": 3
   },
   "file_extension": ".py",
   "mimetype": "text/x-python",
   "name": "python",
   "nbconvert_exporter": "python",
   "pygments_lexer": "ipython3",
   "version": "3.11.9"
  }
 },
 "nbformat": 4,
 "nbformat_minor": 2
}
